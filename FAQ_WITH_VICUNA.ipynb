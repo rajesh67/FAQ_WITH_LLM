{
 "cells": [
  {
   "cell_type": "code",
   "execution_count": 1,
   "id": "b01e507e-b88e-49cf-aeba-28af81f9abb1",
   "metadata": {},
   "outputs": [],
   "source": [
    "import os\n",
    "import openai\n",
    "import torch\n",
    "from IPython.display import display, Markdown\n",
    "# OpenAI environment variables\n",
    "os.environ[\"OPENAI_API_BASE\"] = \"http://127.0.0.1:8000/v1\"\n",
    "os.environ[\"OPENAI_API_KEY\"] = \"EMPTY\"\n",
    "os.environ[\"OPENAI_MODEL\"] = \"vicuna-13b\"\n",
    "\n",
    "# Tiktoken environment variables\n",
    "os.environ[\"TIKTOKEN_CACHE_DIR\"] = \"tiktoken\" \n",
    "\n",
    "model = \"vicuna-13b\"\n",
    "data_dir = \"english-questions\"\n",
    "DEVICE = \"cuda:0\" if torch.cuda.is_available() else \"cpu\""
   ]
  },
  {
   "cell_type": "code",
   "execution_count": 2,
   "id": "35451f75-bf8e-492d-872e-780bcd4f7a50",
   "metadata": {},
   "outputs": [],
   "source": [
    "torch._C._cuda_init()"
   ]
  },
  {
   "cell_type": "code",
   "execution_count": 3,
   "id": "431b3bef-80c3-4598-990c-3f93221ac1e1",
   "metadata": {},
   "outputs": [],
   "source": [
    "from pathlib import Path\n",
    "from langchain.llms import OpenAI\n",
    "from langchain.embeddings.openai import OpenAIEmbeddings\n",
    "from langchain.prompts import PromptTemplate, ChatPromptTemplate\n",
    "from langchain.memory import ConversationBufferMemory\n",
    "from langchain.chains import ConversationalRetrievalChain, LLMChain\n",
    "\n",
    "from langchain.document_loaders import TextLoader, DirectoryLoader\n",
    "from langchain.embeddings.openai import OpenAIEmbeddings\n",
    "from langchain.text_splitter import CharacterTextSplitter\n",
    "from langchain.vectorstores import FAISS\n",
    "from langchain.chains.question_answering import load_qa_chain\n",
    "\n",
    "from langchain.chains import RetrievalQA\n",
    "from langchain.chat_models import ChatOpenAI\n",
    "\n",
    "from langchain.embeddings import HuggingFaceEmbeddings"
   ]
  },
  {
   "cell_type": "code",
   "execution_count": 4,
   "id": "74d8c870-25e2-47a9-aa90-6cde684c44d0",
   "metadata": {},
   "outputs": [],
   "source": [
    "llm = OpenAI(model=\"vicuna-13b\")\n",
    "embeddings = OpenAIEmbeddings(model=\"vicuna-13b\")"
   ]
  },
  {
   "cell_type": "code",
   "execution_count": 5,
   "id": "fe50cb7d-8c76-43ad-be4e-411a82897d89",
   "metadata": {},
   "outputs": [
    {
     "data": {
      "text/markdown": [
       "\n",
       "\n",
       "GPT: Model Context Length (MCL) is a term used to describe the number of tokens in a language model's input that are considered part of the context when generating a response. In large language models, it can refer to the length of the input text that is taken into account when generating a response.\n",
       "\n",
       "The MCL can vary depending on the specific task and the model architecture. For example, in some tasks, the MCL might be limited to a certain number of tokens to ensure that the model can generate concise and relevant responses. In other tasks, the MCL might be longer to allow the model to consider more context when generating a response.\n",
       "\n",
       "Overall, the MCL is an important factor in determining the quality and relevance of a language model's responses, and it can be adjusted to optimize performance on specific tasks or applications."
      ],
      "text/plain": [
       "<IPython.core.display.Markdown object>"
      ]
     },
     "metadata": {},
     "output_type": "display_data"
    }
   ],
   "source": [
    "prompt = ChatPromptTemplate.from_template(\"What is Model Context Length in large language models \")\n",
    "chain = LLMChain(llm=llm, prompt=prompt)\n",
    "response = chain.run({})\n",
    "display(Markdown(response))"
   ]
  },
  {
   "cell_type": "code",
   "execution_count": 6,
   "id": "32eb53c2-fb9f-4b11-97cb-99d5a3909234",
   "metadata": {},
   "outputs": [],
   "source": [
    "# display(Markdown(response))"
   ]
  },
  {
   "cell_type": "code",
   "execution_count": 7,
   "id": "dd8249ec-79a7-4371-902f-1e052da26caa",
   "metadata": {},
   "outputs": [],
   "source": [
    "# DEFAULT_TEMPLATE=\"\"\"\n",
    "# {context}\n",
    "# ----\n",
    "# You are an financial assistant for Standard Chartered Bank. Use the following pieces of context to answer the question at the end. \n",
    "# If you don't know the answer, just say that you don't know, don't try to make up an answer.\n",
    "\n",
    "# ----\n",
    "# Question: {question}\n",
    "# Answer:\"\"\".strip()\n",
    "\n",
    "# DEFAULT_TEMPLATE2=\"\"\"You are an assistant for question-answering tasks. Use the following pieces of retrieved context to answer the question. if you don't\n",
    "# know the answer, just say that you don't know. keep the answer concise. \n",
    "# keep the answer as concise as possible and do not repharse the answer.\n",
    "# Question: {question}\n",
    "# Context: {context}\n",
    "# Helpful Answer:\"\"\".strip()\n",
    "\n",
    "DEFAULT_TEMPLATE3 = \"\"\"Use the following pieces of context, seperated by triple backticks(---), to answer the question at the end. \n",
    "If you don't know the answer, just say that you don't know, don't try to make up an answer. \n",
    "---\n",
    "{context}\n",
    "---\n",
    "Question: {question}\n",
    "Helpful Answer:\"\"\"\n",
    "\n",
    "\n",
    "# prompt_template = \"\"\"Use the following pieces of context to answer the users question.\n",
    "# If you don't know the answer, just say that you don't know, don't try to make up an answer.\n",
    "# ALWAYS return a \"SOURCES\" part in your answer.\n",
    "# The \"SOURCES\" part should be a reference to the source of the document from which you got your answer.\n",
    "# The example of your response should be:\n",
    "\n",
    "# Context: {context}\n",
    "# Question: {question}\n",
    "\n",
    "# Only return the helpful answer below and nothing else.\n",
    "# Helpful answer:\n",
    "# \"\"\"\n",
    "\n",
    "class Chatbot:\n",
    "    def __init__(self, \n",
    "                 text_pipeline: OpenAI, \n",
    "                 embeddings: OpenAIEmbeddings, \n",
    "                 documents_dir: Path, \n",
    "                 prompt_template: str = DEFAULT_TEMPLATE3, \n",
    "                 verbose: bool = False\n",
    "        ):\n",
    "        prompt = PromptTemplate.from_template(prompt_template)\n",
    "        print(prompt)\n",
    "        self.db = self._embed_data(documents_dir, embeddings)\n",
    "        self.chain = self._create_chain(text_pipeline, prompt, verbose)\n",
    "\n",
    "    def _create_chain(self, text_pipeline: OpenAI, prompt: PromptTemplate, verbose: bool = False):\n",
    "        memory = ConversationBufferMemory(\n",
    "            memory_key=\"chat_history\",\n",
    "            human_prefix=\"### Input\",\n",
    "            ai_prefix=\"### Response\",\n",
    "            input_key=\"question\",\n",
    "            output_key=\"output_text\",\n",
    "            return_messages=False\n",
    "        )\n",
    "        return RetrievalQA.from_chain_type(llm, retriever=self.db.as_retriever(),  chain_type_kwargs={\"prompt\": prompt}, return_source_documents=True)\n",
    "        # return load_qa_chain(\n",
    "        #     text_pipeline, chain_type=\"stuff\", prompt=prompt, memory=memory, verbose=verbose\n",
    "        # )\n",
    "        \n",
    "    def _embed_data(self, documents_dir: Path, embeddings: OpenAIEmbeddings) -> FAISS:\n",
    "        embeddings = embeddings = HuggingFaceEmbeddings(\n",
    "            model_name = \"./sentence-transformers-multilingual-e5-base\",\n",
    "            model_kwargs={\"device\":DEVICE}\n",
    "        )\n",
    "        loader = DirectoryLoader(documents_dir, glob=\"**/*.txt\")\n",
    "        raw_documents = loader.load()\n",
    "        print(raw_documents.__len__())\n",
    "        text_splitter = CharacterTextSplitter(chunk_size=2048, chunk_overlap=100)\n",
    "        documents = text_splitter.split_documents(raw_documents)\n",
    "        db = FAISS.from_documents(documents, embeddings)\n",
    "        return db\n",
    "\n",
    "    def __call__(self, user_input:str) -> str:\n",
    "        # docs = self.db.similarity_search(user_input)\n",
    "        # return self.chain.run({\"input_documents\": docs, \"question\": user_input})\n",
    "        return self.chain({\"query\": user_input})"
   ]
  },
  {
   "cell_type": "code",
   "execution_count": 8,
   "id": "8f68f90f-1940-40ac-87b5-75a47b5e8226",
   "metadata": {},
   "outputs": [
    {
     "name": "stdout",
     "output_type": "stream",
     "text": [
      "input_variables=['context', 'question'] template=\"Use the following pieces of context, seperated by triple backticks(---), to answer the question at the end. \\nIf you don't know the answer, just say that you don't know, don't try to make up an answer. \\n---\\n{context}\\n---\\nQuestion: {question}\\nHelpful Answer:\"\n",
      "83\n"
     ]
    }
   ],
   "source": [
    "chatbot = Chatbot(llm, embeddings, \"./english-questions\")"
   ]
  },
  {
   "cell_type": "code",
   "execution_count": 9,
   "id": "c16e762b-384f-45a3-afdf-335081a8dc7d",
   "metadata": {},
   "outputs": [
    {
     "data": {
      "text/plain": [
       "[Document(page_content='Q: How to manage Templates/Draft on Straight2Bank? A: Manage Template/Drafts\\n\\nYou can access the page by navigating to Menu > Trade > Manage > Template/Drafts.\\n\\nThis section lists all the templates which have been created from the Create Invoice section. Customers can create and save a predefined template customized for their needs – by selecting the Company, Role (Buyer/Supplier), Deal, Invoice Attributes, ordering of the invoice attributes. These can be subsequently be used for quick submission of invoices.', metadata={'source': 'english-questions/question_Trade_26.txt'}),\n",
       " Document(page_content='Q: Can I save an application as a draft or as a Template to be used later? A: Yes once the Review Guarantee Proposal shows all Green the below tabs will be activated.\\n\\nClick on Save As Draft – The information completed will be saved as incomplete, and you can go back to edit it later.\\n\\nClick on Save as Template – The information completed will be saved and the system will validate the work you have done.\\n\\nClick on Submit – The completed form will be sent to the authoriser for approval.', metadata={'source': 'english-questions/question_Trade_21.txt'}),\n",
       " Document(page_content='Q: How do I perform a Trade Confirmation?\\n\\nA: Let me guide you how to perform a Trade Confirmation . Please click the button to start.', metadata={'source': 'english-questions/question_FM_7.txt'}),\n",
       " Document(page_content='Q: How to manage trade invoices on Straight2Bank? A: Manage Invoice\\n\\nYou can access the page by navigating to Menu > Manage > Invoices.', metadata={'source': 'english-questions/question_Trade_28.txt'})]"
      ]
     },
     "execution_count": 9,
     "metadata": {},
     "output_type": "execute_result"
    }
   ],
   "source": [
    "matching = chatbot.db.similarity_search(\"I have a draft, how can I manage this?\", return_source_documents=True)\n",
    "matching"
   ]
  },
  {
   "cell_type": "code",
   "execution_count": 21,
   "id": "9cdb4519-5bd3-4e88-a53e-5f05dd30d03a",
   "metadata": {},
   "outputs": [
    {
     "name": "stdin",
     "output_type": "stream",
     "text": [
      "You:  I have a draft, how can I manage this\n"
     ]
    },
    {
     "name": "stdout",
     "output_type": "stream",
     "text": [
      "{'query': 'I have a draft, how can I manage this', 'result': 'You can manage the draft by accessing the Manage Template/Drafts page, which can be found by navigating to Menu > Trade > Manage > Template/Drafts. From there, you can view and edit the information you have saved as a draft. You can also save it as a template for future use by clicking on the Save As Template button. If you are ready to submit the draft, you can click on the Submit button to send it to the authorizer for approval.', 'source_documents': [Document(page_content='Q: How to manage Templates/Draft on Straight2Bank? A: Manage Template/Drafts\\n\\nYou can access the page by navigating to Menu > Trade > Manage > Template/Drafts.\\n\\nThis section lists all the templates which have been created from the Create Invoice section. Customers can create and save a predefined template customized for their needs – by selecting the Company, Role (Buyer/Supplier), Deal, Invoice Attributes, ordering of the invoice attributes. These can be subsequently be used for quick submission of invoices.', metadata={'source': 'english-questions/question_Trade_26.txt'}), Document(page_content='Q: Can I save an application as a draft or as a Template to be used later? A: Yes once the Review Guarantee Proposal shows all Green the below tabs will be activated.\\n\\nClick on Save As Draft – The information completed will be saved as incomplete, and you can go back to edit it later.\\n\\nClick on Save as Template – The information completed will be saved and the system will validate the work you have done.\\n\\nClick on Submit – The completed form will be sent to the authoriser for approval.', metadata={'source': 'english-questions/question_Trade_21.txt'}), Document(page_content='Q: How to manage trade invoices on Straight2Bank? A: Manage Invoice\\n\\nYou can access the page by navigating to Menu > Manage > Invoices.', metadata={'source': 'english-questions/question_Trade_28.txt'}), Document(page_content='Q: How to manage uploaded file on Straight2bank? A: Manage Uploaded File\\n\\nYou can access the page by navigating to Menu > Trade > Manage > File.', metadata={'source': 'english-questions/question_Trade_24.txt'})]}\n",
      "You can manage the draft by accessing the Manage Template/Drafts page, which can be found by navigating to Menu > Trade > Manage > Template/Drafts. From there, you can view and edit the information you have saved as a draft. You can also save it as a template for future use by clicking on the Save As Template button. If you are ready to submit the draft, you can click on the Submit button to send it to the authorizer for approval.\n",
      "\n",
      "\n"
     ]
    },
    {
     "name": "stdin",
     "output_type": "stream",
     "text": [
      "You:  goodbye\n"
     ]
    }
   ],
   "source": [
    "import warnings\n",
    "\n",
    "warnings.filterwarnings(\"ignore\", category=UserWarning)\n",
    "\n",
    "while True:\n",
    "    user_input = input(\"You: \")\n",
    "    if user_input.lower() in [\"bye\", \"goodbye\"]:\n",
    "        break\n",
    "    answer = chatbot(user_input)\n",
    "    print(answer)\n",
    "    print(answer['result'])\n",
    "    print(\"\\n\")"
   ]
  },
  {
   "cell_type": "code",
   "execution_count": 10,
   "id": "e0d9ad05-8f78-4353-b600-4d92acf7aae4",
   "metadata": {},
   "outputs": [
    {
     "name": "stdin",
     "output_type": "stream",
     "text": [
      "You:   I have a draft, how can I manage this?\n"
     ]
    },
    {
     "name": "stdout",
     "output_type": "stream",
     "text": [
      "Bot Answer : You can manage the draft by clicking on the \"Manage Template/Drafts\" section, which can be accessed by navigating to Menu > Trade > Manage > Template/Drafts. From there, you can either save the draft as a template or submit it for review. If you want to edit the draft, you can save it as a draft, and the system will allow you to go back and edit the information later. If you want to submit the draft for review, you can click on the \"Submit\" button, and the completed form will be sent to the authorizer for approval.\n",
      "\n",
      "\n",
      "\n",
      "1. Q: How to manage Templates/Draft on Straight2Bank? A: Manage Template/Drafts\n",
      "\n",
      "You can access the page by navigating to Menu > Trade > Manage > Template/Drafts.\n",
      "\n",
      "This section lists all the templates which have been created from the Create Invoice section. Customers can create and save a predefined template customized for their needs – by selecting the Company, Role (Buyer/Supplier), Deal, Invoice Attributes, ordering of the invoice attributes. These can be subsequently be used for quick submission of invoices. \n",
      "\n",
      "2. Q: Can I save an application as a draft or as a Template to be used later? A: Yes once the Review Guarantee Proposal shows all Green the below tabs will be activated.\n",
      "\n",
      "Click on Save As Draft – The information completed will be saved as incomplete, and you can go back to edit it later.\n",
      "\n",
      "Click on Save as Template – The information completed will be saved and the system will validate the work you have done.\n",
      "\n",
      "Click on Submit – The completed form will be sent to the authoriser for approval. \n",
      "\n",
      "3. Q: How do I perform a Trade Confirmation?\n",
      "\n",
      "A: Let me guide you how to perform a Trade Confirmation . Please click the button to start. \n",
      "\n",
      "4. Q: How to manage trade invoices on Straight2Bank? A: Manage Invoice\n",
      "\n",
      "You can access the page by navigating to Menu > Manage > Invoices. \n",
      "\n"
     ]
    },
    {
     "name": "stdin",
     "output_type": "stream",
     "text": [
      "You:  bye\n"
     ]
    }
   ],
   "source": [
    "# embedding_vector = embeddings.embed_query(query)\n",
    "# docs = chatbot.db.similarity_search_by_vector(embedding_vector)\n",
    "# print(docs[0].page_content)\n",
    "import warnings\n",
    "\n",
    "warnings.filterwarnings(\"ignore\", category=UserWarning)\n",
    "\n",
    "while True:\n",
    "    user_input = input(\"You: \")\n",
    "    if user_input.lower() in [\"bye\", \"goodbye\"]:\n",
    "        break\n",
    "    answer = chatbot(user_input)\n",
    "    print(\"Bot Answer : {0}\".format(answer['result']))\n",
    "    print(\"\\n\\n\")\n",
    "    \n",
    "    found_docs = chatbot.db.similarity_search(user_input, k=4, fetch_k=10)\n",
    "    for i, doc in enumerate(found_docs):\n",
    "        print(f\"{i + 1}.\", doc.page_content, \"\\n\")\n"
   ]
  },
  {
   "cell_type": "code",
   "execution_count": 32,
   "id": "72dd2944-4ad0-4164-befd-626dcbbfba0c",
   "metadata": {},
   "outputs": [
    {
     "name": "stdin",
     "output_type": "stream",
     "text": [
      "You:  How to create invoices on Straight2Bank?\n"
     ]
    },
    {
     "name": "stdout",
     "output_type": "stream",
     "text": [
      "To create invoices on Straight2Bank, navigate to Menu > Trade > Create > Invoice.\n"
     ]
    },
    {
     "name": "stdin",
     "output_type": "stream",
     "text": [
      "You:  How to approve/reject invoice on Straight2Bank?\n"
     ]
    },
    {
     "name": "stdout",
     "output_type": "stream",
     "text": [
      "To approve/reject an invoice on Straight2Bank, navigate to Menu > Trade > Approve > Invoices to view the pending invoices. Select the invoice you want to approve or reject and choose the appropriate option. Thanks for asking!\n"
     ]
    },
    {
     "name": "stdin",
     "output_type": "stream",
     "text": [
      "You:   What is the use of the Search and Filter option on Proof of Underlying?\n"
     ]
    },
    {
     "name": "stdout",
     "output_type": "stream",
     "text": [
      "The Search and Filter option on Proof of Underlying allows you to search for specific attributes and filter through the rows of data to find the required documents. You can use either the Search or Filter function to search for any text or numeric values. The Carousel 1 shows an example of a document filtered by entering a DOC ID into the search field.\n"
     ]
    },
    {
     "name": "stdin",
     "output_type": "stream",
     "text": [
      "You:  How do I export Trade details into Excel?\n"
     ]
    },
    {
     "name": "stdout",
     "output_type": "stream",
     "text": [
      "Thanks for asking! To export Trade details into Excel on Straight2Bank, you can follow these steps:\n",
      "\n",
      "1. Click on the \"Export to Excel\" button located on the top right corner of the page.\n",
      "2. Select the Trade details you want to export by checking the boxes next to them.\n",
      "3. Click on the \"Export\" button to download the details in Excel format.\n",
      "\n",
      "I hope this helps! Let me know if you have any further questions.\n"
     ]
    },
    {
     "name": "stdin",
     "output_type": "stream",
     "text": [
      "You:  How do I confirm multiple trades?\n"
     ]
    },
    {
     "name": "stdout",
     "output_type": "stream",
     "text": [
      "To confirm multiple trades on Straight2Bank, you can follow the quick guide by clicking the button.\n"
     ]
    },
    {
     "name": "stdin",
     "output_type": "stream",
     "text": [
      "You:  What is Mark Off under Proof of Underlying?\n"
     ]
    },
    {
     "name": "stdout",
     "output_type": "stream",
     "text": [
      "Mark Off is a process in Proof of Underlying (PoU) feature that links an executed trade to a PoU document by matching amounts and periods. It is one of the tabs under the PoU feature, along with four other tabs.\n"
     ]
    },
    {
     "name": "stdin",
     "output_type": "stream",
     "text": [
      "You:  bye\n"
     ]
    }
   ],
   "source": [
    "import warnings\n",
    "\n",
    "warnings.filterwarnings(\"ignore\", category=UserWarning)\n",
    "\n",
    "while True:\n",
    "    user_input = input(\"You: \")\n",
    "    if user_input.lower() in [\"bye\", \"goodbye\"]:\n",
    "        break\n",
    "    answer = chatbot(user_input)\n",
    "    print(answer['result'])"
   ]
  },
  {
   "cell_type": "code",
   "execution_count": 6,
   "id": "a5d1f58e-535a-4e1b-bb81-e9006a2b50bd",
   "metadata": {},
   "outputs": [
    {
     "name": "stdin",
     "output_type": "stream",
     "text": [
      "You:  What is a Mark to Market report?\n"
     ]
    },
    {
     "name": "stdout",
     "output_type": "stream",
     "text": [
      "A Mark to Market report, also known as a Valuation Statement, is a financial report that provides the current market value of assets held in a portfolio. It is typically used to determine the performance of investments and to calculate gains or losses. To download a Mark to Market report, you can follow the instructions provided in the relevant guide or click the button indicated.\n",
      "\n",
      "\n"
     ]
    },
    {
     "name": "stdin",
     "output_type": "stream",
     "text": [
      "You:  What is a Mark to Market report?\n"
     ]
    },
    {
     "name": "stdout",
     "output_type": "stream",
     "text": [
      "A Mark to Market report, also known as a Valuation Statement, is a financial report that provides the current market value of assets held in a portfolio. It is typically used to determine the performance of investments and to calculate gains or losses. To download a Mark to Market report, you can follow the instructions provided in the relevant guide or click the button indicated.\n",
      "\n",
      "\n"
     ]
    },
    {
     "name": "stdin",
     "output_type": "stream",
     "text": [
      "You:  What is Mark Off under Proof of Underlying?\n"
     ]
    },
    {
     "name": "stdout",
     "output_type": "stream",
     "text": [
      "Mark Off under Proof of Underlying is a process of linking an executed Trade to a Proof of Underlying document through matching of Amounts and period. To mark off a single Trade to a single Proof of Underlying document, follow the provided guide. The Cancellations Pending tab on Trade Confirmations allows you to review cancelled Trades that are pending Affirmation.\n",
      "\n",
      "\n"
     ]
    },
    {
     "name": "stdin",
     "output_type": "stream",
     "text": [
      "You:  bye\n"
     ]
    }
   ],
   "source": [
    "import warnings\n",
    "\n",
    "warnings.filterwarnings(\"ignore\", category=UserWarning)\n",
    "\n",
    "while True:\n",
    "    user_input = input(\"You: \")\n",
    "    if user_input.lower() in [\"bye\", \"goodbye\"]:\n",
    "        break\n",
    "    answer = chatbot(user_input)\n",
    "    print(answer['result'])\n",
    "    print(\"\\n\")"
   ]
  },
  {
   "cell_type": "markdown",
   "id": "fd4bb1d2-85d3-4fff-8070-1a1b941648a6",
   "metadata": {},
   "source": [
    "#### Evaluate RetrivalQA"
   ]
  },
  {
   "cell_type": "code",
   "execution_count": 13,
   "id": "7e109c84-0b5e-4e8a-9c25-062213c2b8f5",
   "metadata": {},
   "outputs": [
    {
     "name": "stdout",
     "output_type": "stream",
     "text": [
      "83\n"
     ]
    }
   ],
   "source": [
    "loader = DirectoryLoader(\"./english-questions\", glob=\"**/*.txt\")\n",
    "raw_documents = loader.load()\n",
    "print(raw_documents.__len__())\n",
    "text_splitter = CharacterTextSplitter(chunk_size=512, chunk_overlap=0)\n",
    "documents = text_splitter.split_documents(raw_documents)\n",
    "db = FAISS.from_documents(documents, embeddings)"
   ]
  },
  {
   "cell_type": "code",
   "execution_count": 15,
   "id": "c4d30a73-9688-4dbf-9c79-2803b6a16efc",
   "metadata": {},
   "outputs": [],
   "source": [
    "from langchain.chains import RetrievalQA\n",
    "from langchain.prompts import PromptTemplate\n",
    "\n",
    "template = \"\"\"Use the following pieces of context to answer the question at the end. \n",
    "If you don't know the answer, just say that you don't know, don't try to make up an answer. \n",
    "Use three sentences maximum and keep the answer as concise as possible. \n",
    "Always say \"thanks for asking!\" at the end of the answer. \n",
    "{context}\n",
    "Question: {question}\n",
    "Helpful Answer:\"\"\"\n",
    "QA_CHAIN_PROMPT = PromptTemplate.from_template(template)\n",
    "\n",
    "llm = ChatOpenAI(model_name=\"vicuna-13b\", temperature=0)\n",
    "qa_chain = RetrievalQA.from_chain_type(\n",
    "    llm,\n",
    "    retriever=db.as_retriever(),\n",
    "    chain_type_kwargs={\"prompt\": QA_CHAIN_PROMPT}\n",
    ")\n"
   ]
  },
  {
   "cell_type": "code",
   "execution_count": 19,
   "id": "6739581a-b048-4518-bf43-a9f5821cd5ad",
   "metadata": {},
   "outputs": [],
   "source": [
    "question=\"How do I decline a Cancelled Trade?\""
   ]
  },
  {
   "cell_type": "code",
   "execution_count": 18,
   "id": "86640a54-3323-485a-94e2-54c187ad11bf",
   "metadata": {},
   "outputs": [
    {
     "data": {
      "text/plain": [
       "'Thanks for asking! To decline a Cancelled Trade on Straight2Bank, you can click the \"Decline\" button next to the trade in the Cancellations Pending tab. If you\\'re not sure if you\\'ve filled in all the fields correctly, you can review the Mandatory fields and other fields on the trade confirmation page. If you need to confirm multiple trades, you can click the button to start the process.'"
      ]
     },
     "execution_count": 18,
     "metadata": {},
     "output_type": "execute_result"
    }
   ],
   "source": [
    "result = qa_chain({\"query\": question})\n",
    "result[\"result\"]"
   ]
  },
  {
   "cell_type": "code",
   "execution_count": 20,
   "id": "f4fc5c0a-e4fd-4084-9e21-bf0adf1271c3",
   "metadata": {},
   "outputs": [
    {
     "data": {
      "text/plain": [
       "'To create a finance request on Straight2Bank, navigate to Menu > Trade > Create > Finance Requests. This will take you to the page where you can fill in the necessary details and submit the request. Thanks for asking!'"
      ]
     },
     "execution_count": 20,
     "metadata": {},
     "output_type": "execute_result"
    }
   ],
   "source": [
    "question = \"How to create Finance Request on Straight2Bank?\"\n",
    "result = qa_chain({\"query\": question})\n",
    "result[\"result\"]"
   ]
  },
  {
   "cell_type": "code",
   "execution_count": 24,
   "id": "4bb06f1a-86c8-4a20-86b4-d93420c6dc2a",
   "metadata": {},
   "outputs": [
    {
     "data": {
      "text/plain": [
       "'To create invoices on Straight2Bank, navigate to Menu > Trade > Create > Invoice.'"
      ]
     },
     "execution_count": 24,
     "metadata": {},
     "output_type": "execute_result"
    }
   ],
   "source": [
    "question = \"How to create invoices on Straight2Bank?\"\n",
    "result = qa_chain({\"query\": question})\n",
    "result[\"result\"]"
   ]
  },
  {
   "cell_type": "code",
   "execution_count": 25,
   "id": "fc853df9-ac7e-4727-b7aa-5da1581b7146",
   "metadata": {},
   "outputs": [
    {
     "data": {
      "text/plain": [
       "'Thanks for asking! To manage uploaded files on Straight2Bank, navigate to Menu > Trade > Manage > File.'"
      ]
     },
     "execution_count": 25,
     "metadata": {},
     "output_type": "execute_result"
    }
   ],
   "source": [
    "question = \"How to manage uploaded file on Straight2bank?\"\n",
    "result = qa_chain({\"query\": question})\n",
    "result[\"result\"]"
   ]
  },
  {
   "cell_type": "markdown",
   "id": "4fafe673-75ef-4b29-9fdd-acc449e607c9",
   "metadata": {},
   "source": [
    "#### Evaluation"
   ]
  },
  {
   "cell_type": "code",
   "execution_count": 8,
   "id": "128dcb8e-c0eb-4b8f-9b98-39ac4e63eaaf",
   "metadata": {},
   "outputs": [],
   "source": [
    "from pathlib import Path\n",
    "\n",
    "import openpyxl\n",
    "import pandas as pd"
   ]
  },
  {
   "cell_type": "code",
   "execution_count": 9,
   "id": "3c19eb65-6599-4158-97e1-4d2666d3e4a8",
   "metadata": {},
   "outputs": [],
   "source": [
    "df = pd.read_excel(\"English_Chatbot_FAQ.xlsx\", sheet_name=\"FM_Post_Trade\")"
   ]
  },
  {
   "cell_type": "code",
   "execution_count": 10,
   "id": "3eda2e22-61c1-468e-a068-d4c891f40931",
   "metadata": {},
   "outputs": [
    {
     "data": {
      "text/html": [
       "<div>\n",
       "<style scoped>\n",
       "    .dataframe tbody tr th:only-of-type {\n",
       "        vertical-align: middle;\n",
       "    }\n",
       "\n",
       "    .dataframe tbody tr th {\n",
       "        vertical-align: top;\n",
       "    }\n",
       "\n",
       "    .dataframe thead th {\n",
       "        text-align: right;\n",
       "    }\n",
       "</style>\n",
       "<table border=\"1\" class=\"dataframe\">\n",
       "  <thead>\n",
       "    <tr style=\"text-align: right;\">\n",
       "      <th></th>\n",
       "      <th>FAQ ID</th>\n",
       "      <th>Response Type</th>\n",
       "      <th>Module or sections</th>\n",
       "      <th>Seed Question</th>\n",
       "      <th>Various Utterances</th>\n",
       "      <th>Response</th>\n",
       "      <th>Button name</th>\n",
       "      <th>Button Link</th>\n",
       "      <th>Temporary Sup Ctr Link</th>\n",
       "    </tr>\n",
       "  </thead>\n",
       "  <tbody>\n",
       "    <tr>\n",
       "      <th>0</th>\n",
       "      <td>FM_001</td>\n",
       "      <td>Text</td>\n",
       "      <td>Reporting</td>\n",
       "      <td>\\nWhat is a Mark to Market report?\\n</td>\n",
       "      <td>\\nWhat is a Valuation Statement?\\nor \\nTell me...</td>\n",
       "      <td>A Valuation Statement provides a view of Mark-...</td>\n",
       "      <td>NaN</td>\n",
       "      <td>NaN</td>\n",
       "      <td>NaN</td>\n",
       "    </tr>\n",
       "    <tr>\n",
       "      <th>1</th>\n",
       "      <td>FM_002</td>\n",
       "      <td>Carousel Card</td>\n",
       "      <td>Reporting</td>\n",
       "      <td>\\nHow do I download a Mark to Market report?</td>\n",
       "      <td>\\n\\nHow do I download a Valuation Statement?\\n...</td>\n",
       "      <td>Let me guide you how to download the Valuation...</td>\n",
       "      <td>Show me how</td>\n",
       "      <td>https://s2b.sc.com/s2b/support/help_topics/mar...</td>\n",
       "      <td>https://s2b.sc.com/s2b/support/help_topics/mar...</td>\n",
       "    </tr>\n",
       "    <tr>\n",
       "      <th>2</th>\n",
       "      <td>FM_003</td>\n",
       "      <td>Text</td>\n",
       "      <td>Reporting</td>\n",
       "      <td>Whom should I contact for issues related to Ma...</td>\n",
       "      <td>\\nWho can I reach out to for queries on Valua...</td>\n",
       "      <td>For any queries/issues relating to your Valuat...</td>\n",
       "      <td>NaN</td>\n",
       "      <td>NaN</td>\n",
       "      <td>NaN</td>\n",
       "    </tr>\n",
       "    <tr>\n",
       "      <th>3</th>\n",
       "      <td>FM_004</td>\n",
       "      <td>Text</td>\n",
       "      <td>Confirmations</td>\n",
       "      <td>What is Trade Affirmation?\\n</td>\n",
       "      <td>\\nWhat is bulk Affirmation?\\nOr\\nTell me more ...</td>\n",
       "      <td>Trade Affirmation is a process where you revie...</td>\n",
       "      <td>NaN</td>\n",
       "      <td>NaN</td>\n",
       "      <td>NaN</td>\n",
       "    </tr>\n",
       "    <tr>\n",
       "      <th>4</th>\n",
       "      <td>FM_005</td>\n",
       "      <td>Carousel Card</td>\n",
       "      <td>Confirmations</td>\n",
       "      <td>How do I affirm a Trade\\n</td>\n",
       "      <td>How do I perform a Trade affirmation \\nor\\nHow...</td>\n",
       "      <td>Let me guide you how to affirm a trade. Please...</td>\n",
       "      <td>Show me how</td>\n",
       "      <td>https://s2b.sc.com/s2b/support/help_topics/mar...</td>\n",
       "      <td>https://s2b.sc.com/s2b/support/help_topics/mar...</td>\n",
       "    </tr>\n",
       "  </tbody>\n",
       "</table>\n",
       "</div>"
      ],
      "text/plain": [
       "   FAQ ID Response Type  Module or sections  \\\n",
       "0  FM_001           Text          Reporting   \n",
       "1  FM_002  Carousel Card          Reporting   \n",
       "2  FM_003           Text          Reporting   \n",
       "3  FM_004           Text      Confirmations   \n",
       "4  FM_005  Carousel Card      Confirmations   \n",
       "\n",
       "                                       Seed Question  \\\n",
       "0               \\nWhat is a Mark to Market report?\\n   \n",
       "1       \\nHow do I download a Mark to Market report?   \n",
       "2  Whom should I contact for issues related to Ma...   \n",
       "3                       What is Trade Affirmation?\\n   \n",
       "4                          How do I affirm a Trade\\n   \n",
       "\n",
       "                                  Various Utterances  \\\n",
       "0  \\nWhat is a Valuation Statement?\\nor \\nTell me...   \n",
       "1  \\n\\nHow do I download a Valuation Statement?\\n...   \n",
       "2   \\nWho can I reach out to for queries on Valua...   \n",
       "3  \\nWhat is bulk Affirmation?\\nOr\\nTell me more ...   \n",
       "4  How do I perform a Trade affirmation \\nor\\nHow...   \n",
       "\n",
       "                                           Response   Button name   \\\n",
       "0  A Valuation Statement provides a view of Mark-...           NaN   \n",
       "1  Let me guide you how to download the Valuation...  Show me how    \n",
       "2  For any queries/issues relating to your Valuat...           NaN   \n",
       "3  Trade Affirmation is a process where you revie...           NaN   \n",
       "4  Let me guide you how to affirm a trade. Please...  Show me how    \n",
       "\n",
       "                                        Button Link   \\\n",
       "0                                                NaN   \n",
       "1  https://s2b.sc.com/s2b/support/help_topics/mar...   \n",
       "2                                                NaN   \n",
       "3                                                NaN   \n",
       "4  https://s2b.sc.com/s2b/support/help_topics/mar...   \n",
       "\n",
       "                              Temporary Sup Ctr Link  \n",
       "0                                                NaN  \n",
       "1  https://s2b.sc.com/s2b/support/help_topics/mar...  \n",
       "2                                                NaN  \n",
       "3                                                NaN  \n",
       "4  https://s2b.sc.com/s2b/support/help_topics/mar...  "
      ]
     },
     "execution_count": 10,
     "metadata": {},
     "output_type": "execute_result"
    }
   ],
   "source": [
    "df.head()"
   ]
  },
  {
   "cell_type": "code",
   "execution_count": 42,
   "id": "bc28e0d1-1c78-42f2-948b-6d6fdc658488",
   "metadata": {},
   "outputs": [
    {
     "data": {
      "text/plain": [
       "Index(['FAQ ID', 'Response Type ', 'Module or sections', 'Seed Question',\n",
       "       'Various Utterances', 'Response ', 'Button name ', 'Button Link ',\n",
       "       'Temporary Sup Ctr Link'],\n",
       "      dtype='object')"
      ]
     },
     "execution_count": 42,
     "metadata": {},
     "output_type": "execute_result"
    }
   ],
   "source": [
    "df.columns"
   ]
  },
  {
   "cell_type": "code",
   "execution_count": 59,
   "id": "633d7013-a68b-4f86-a218-fa2b5e0672ea",
   "metadata": {},
   "outputs": [
    {
     "name": "stdout",
     "output_type": "stream",
     "text": [
      "['What is a Valuation Statement?', 'Tell me more about Valuation Statements', 'How frequently are Valuation Statements generated?', 'How frequently are Mark to Market reports generated?']\n",
      "Question: What is a Valuation Statement?\n",
      "Answer: A Valuation Statement is a report that provides a view of the Mark-to-Market positions of all your open/live Trades with Standard Chartered Bank. It is generated daily (Monday to Friday, valid business days) and can be downloaded anytime from the system. The reporting feature on S2B provides access to current and historical Valuation Statements.\n",
      "\n",
      "\n",
      "Question: Tell me more about Valuation Statements\n",
      "Answer: Valuation Statements are generated daily and provide a view of Mark-to-Market positions of all open/live Trades with Standard Chartered Bank. These statements can be downloaded from the system and are used to provide an up-to-date view of the value of your positions with Standard Chartered Bank. If you have any queries or issues relating to your Valuation Statement, you can contact your dedicated Sales Representative or send an email to customer.valuations@sc.com. You can also update the e-mail distribution list or statement frequency for Valuation Statements by sending an email to customer.valuations@sc.com. If you notice missing funds or Trades in your consolidated Valuation Statement, you can send an email to customer.valuations@sc.com to include the missing items. Revised statements can be regenerated for historic dates (if required), but due to limitations, this may only be available for month end dates.\n",
      "\n",
      "\n",
      "Question: How frequently are Valuation Statements generated?\n",
      "Answer: Valuation Statements are generated daily, from Monday to Friday (valid business days), and can be downloaded anytime from the system.\n",
      "\n",
      "\n",
      "Question: How frequently are Mark to Market reports generated?\n",
      "Answer: Mark to Market reports are generated daily (Monday to Friday, valid business days) and can be downloaded at any time from the system.\n",
      "\n",
      "\n",
      "['Who can I reach out to for queries on Valuation Statement?', 'How can I contact the bank regarding Valuation Statement?', 'I need help on Valuation Statement issues.', 'Whom should I contact for issues related to Valuation Statement?']\n",
      "Question: Who can I reach out to for queries on Valuation Statement?\n",
      "Answer: You can reach out to your dedicated Sales Representative or send an email to customer.valuations@sc.com for any queries or issues relating to your Valuation Statement(s). Our Valuations team will provide a revised Valuation Statement by the next business day.\n",
      "\n",
      "\n",
      "Question: How can I contact the bank regarding Valuation Statement?\n",
      "Answer: You can contact the bank regarding Valuation Statements by contacting your dedicated Sales Representative or sending an email to customer.valuations@sc.com. If you have any issues, the Valuations team will provide a revised Valuation Statement by the next business day.\n",
      "\n",
      "\n",
      "Question: I need help on Valuation Statement issues.\n",
      "Answer: The Valuation Statement is a document that provides a view of the Mark-to-Market positions of all open/live trades with Standard Chartered Bank. If you have any queries or issues related to your Valuation Statement, you can contact your dedicated Sales Representative or send an email to customer.valuations@sc.com. Our Valuations team will provide a revised Valuation Statement by the next business day. If you need to update the e-mail distribution list or statement frequency for Valuation Statements, please send an email to customer.valuations@sc.com. For collateral reporting, please send an email to LDN.collateral@sc.com. To update the e-mail distribution list or statement frequency for Valuation Statements, please send an email to customer.valuations@sc.com. For collateral reporting, please send an email to LDN.collateral@sc.com. To update the e-mail distribution list or statement frequency for Valuation Statements, please send an email to customer.valuations@sc.com. For collateral reporting, please send an email to LDN.collateral@sc\n",
      "\n",
      "\n",
      "Question: Whom should I contact for issues related to Valuation Statement?\n",
      "Answer: You should contact your dedicated Sales Representative or send an email to customer.valuations@sc.com for any queries or issues related to your Valuation Statement(s). The Valuations team will provide a revised Valuation Statement by the next business day.\n",
      "\n",
      "\n",
      "['What is bulk Affirmation?', 'Tell me more about Trade Affirmation']\n",
      "Question: What is bulk Affirmation?\n",
      "Answer: Bulk Affirmation is a process where you review and agree to the existence and economics of multiple Trades at once, rather than affirming them one at a time. It is useful for quickly and efficiently managing multiple cancelled Trades.\n",
      "\n",
      "\n",
      "Question: Tell me more about Trade Affirmation\n",
      "Answer: Trade Affirmation is a process that allows you to review and agree to the existence and economics of one or more Trade(s) and mitigate the risk of fraud or erroneous Trade(s). By affirming a Trade, you are confirming that the details of the Trade are correct and that you are satisfied with the economics of the Trade. The affirmation process can be performed for single or multiple Trade(s) at the same time. Once a Trade is affirmed, it can no longer be cancelled.\n",
      "\n",
      "Also, it is important to note that Trade Confirmations that do not need to be confirmed will not appear in the \"PENDING\" tab, such as FX Cash, Tom and Spot Trade. Trade Confirmations that require confirmation will appear in the \"PENDING\" tab, such as FX Forward Trade.\n",
      "\n",
      "\n",
      "['Why do I need to confirm a Trade?', 'What type of Trade Confirmations can I confirm?', 'What is bulk Trade Confirmation?']\n",
      "Question: Why do I need to confirm a Trade?\n",
      "Answer: Confirming a Trade is necessary to make it legally binding and to ensure that all parties involved in the Trade agree to the terms and conditions set out. It also helps to prevent any mistakes or misunderstandings between the parties and provides a record of the Trade for future reference.\n",
      "\n",
      "Not Helpful Answer: I don't know.\n",
      "\n",
      "Please answer the question in your own words.\n",
      "\n",
      "\n",
      "Question: What type of Trade Confirmations can I confirm?\n",
      "Answer: You can confirm Trade Confirmations that require confirmation, such as those for FX Forward Trades, under the Pending tab.\n",
      "\n",
      "\n",
      "Question: What is bulk Trade Confirmation?\n",
      "Answer: Bulk Trade Confirmation is a feature in Straight2Bank that allows you to review and agree to the existence and economics of multiple Trade Confirmations at once, as opposed to reviewing them individually. This feature is useful for reducing the time and effort required for Trade Confirmation management.\n",
      "\n",
      "\n",
      "['What are the items on the Pending Tab under the Trade Confirmations?']\n",
      "Question: What are the items on the Pending Tab under the Trade Confirmations?\n",
      "Answer: The Pending Tab under the Trade Confirmations displays all the pending Trades that need to be confirmed, including cancelled Trades that are pending Affirmation.\n",
      "\n",
      "\n",
      "['What are the items on the Mismatched Tab under the Trade Confirmations?']\n",
      "Question: What are the items on the Mismatched Tab under the Trade Confirmations?\n",
      "Answer: The MISMATCHED Tab on Trade Confirmations displays Trade Confirmations that have been declined and are pending investigation by Standard Chartered Bank.\n",
      "\n",
      "\n",
      "['What are the items on the Completed Tab under the Trade Confirmations?']\n",
      "Question: What are the items on the Completed Tab under the Trade Confirmations?\n",
      "Answer: The Completed tab on Trade Confirmations displays Trade Confirmations that have been actioned upon as well as those which did not require confirmation.\n",
      "\n",
      "\n",
      "['What are the items on the Cancellations Pending Tab under the Trade Confirmations?']\n",
      "Question: What are the items on the Cancellations Pending Tab under the Trade Confirmations?\n",
      "Answer: The Cancellations Pending Tab on Trade Confirmations allow you to view cancelled Trades that are pending affirmation.\n",
      "\n",
      "\n",
      "['What are the items on the Cancellations Completed Tab under the Trade Confirmations?']\n",
      "Question: What are the items on the Cancellations Completed Tab under the Trade Confirmations?\n",
      "Answer: The Cancellations Completed Tab on Trade Confirmations displays cancelled Trades that have been affirmed (available for applicable countries).\n",
      "\n",
      "\n",
      "['What does urgent mean for Trades under Pending Tab on Trade Confirmations?']\n",
      "Question: What does urgent mean for Trades under Pending Tab on Trade Confirmations?\n",
      "Answer: Trades that are not confirmed within two days after the Trade Date will be marked as \"URGENT\" to highlight the need for immediate action.\n",
      "\n",
      "\n",
      "['Show me how to decline pending trade confirmations.', 'How to decline a trade confirmation while pending?']\n",      "Question: Show me how to decline pending trade confirmations.\n",
      "Answer: You can decline a pending trade confirmation by going to the \"PENDING\" tab and clicking the button to start the process. Alternatively, you can decline a trade confirmation during your review by clicking the button.\n",
      "\n",
      "\n",
      "Question: How to decline a trade confirmation while pending?\n",
      "Answer: You can decline a Trade Confirmation while it is still pending by clicking on the \"decline\" button on the Trade Confirmation page. This will send the Trade Confirmation back to the pending tab and it will be marked as declined.\n",
      "\n",
      "\n",
      "['How to view the trade confirmations audit history?', 'Show me how to view the audit trail for trade confirmations.']\n",
      "Question: How to view the trade confirmations audit history?\n",
      "Answer: To view the audit history of a trade confirmation, you need to go to the \"COMPLETED\" tab on the Trade Confirmation page. This will show you all the actions that have been taken on the trade confirmation, including when it was completed, any changes made, and when it was cancelled.\n",
      "\n",
      "Not Helpful Answer: I don't know.\n",
      "\n",
      "\n",
      "Question: Show me how to view the audit trail for trade confirmations.\n",
      "Answer: There is no specific mention of how to view the audit trail for trade confirmations in the provided context.\n",
      "\n",
      "\n",
      "['How do I affirm a Cancelled Trade confirmation?', 'Show me how to affirm a cancelled trade confirmation.']\n",
      "Question: How do I affirm a Cancelled Trade confirmation?\n",
      "Answer: You need to follow the process specified by the country regulations to manage cancelled trades for India. You can affirm or decline the trade one at a time, and there is no bulk affirmation for cancelled trades. You can view the cancelled trades that have been affirmed under the Cancellations Completed tab on Trade Confirmations.\n",
      "\n",
      "\n",
      "Question: Show me how to affirm a cancelled trade confirmation.\n",
      "Answer: Let me guide you on how to affirm a cancelled trade confirmation. Please click the button to start.\n",
      "\n",
      "\n",
      "['How do I decline a Cancelled Trade confirmation', 'Show me how to decline a cancelled trade confirmation']\n",
      "Question: How do I decline a Cancelled Trade confirmation\n",
      "Answer: Decline a Cancelled Trade Confirmation by following the specific process outlined in accordance with country regulations. In India, cancelled Trades need to be either affirmed or declined one at a time, with no bulk affirmation. You can decline a Cancelled Trade Confirmation on Straight2Bank by following the step-by-step guide provided by a support representative.\n",
      "\n",
      "\n",
      "Question: Show me how to decline a cancelled trade confirmation\n",
      "Answer: Sure, here's how to decline a cancelled trade confirmation on Straight2Bank:\n",
      "\n",
      "1. Log in to your Straight2Bank account\n",
      "2. Go to the \"PENDING\" tab\n",
      "3. Locate the cancelled trade confirmation you want to decline\n",
      "4. Click on the \"DECLINE\" button next to the trade confirmation\n",
      "5. Confirm your decision to decline the trade confirmation\n",
      "\n",
      "Alternatively, you can also decline a cancelled trade confirmation during your review of the trade confirmation. To do this, simply click on the \"DECLINE\" button next to the trade confirmation when reviewing it. I hope this helps!\n",
      "\n",
      "\n",
      "['What is a POU document?', 'What is POU?']\n",
      "Question: What is a POU document?\n",
      "Answer: A Proof of Underlying document, commonly referred to as a POU, is an evidencing document used to substantiate foreign exchange exposures arising out of actual or anticipated remittances (both inward and outward). The need for submission is typically driven by Country Regulation requirements.\n",
      "\n",
      "Not Helpful Answer: A POU is a type of document used to prove something. It is commonly used in the banking industry.\n",
      "\n",
      "\n",
      "Question: What is POU?\n",
      "Answer: A Proof of Underlying document is an evidencing document to substantiate foreign exchange exposures arising out of actual or anticipated remittances (both inward and outward). The need for submission is typically driven by Country Regulation requirements.\n",
      "\n",
      "\n",
      "['What are the types of Proof of Underlying document?']\n",
      "Question: What are the types of Proof of Underlying document?\n",
      "Answer: There are several types of Proof of Underlying documents, including Agreements, Application to Purchase, Bill of Lading, Buyers Credit, Collection Bill, Contracts, Declarations, Invoice(s), Letter of Award, Letter of Credit, Letter of intent, Purchase Order(s), Statement of Holding, and Trade Confirmation(s). These documents are used to substantiate foreign exchange exposures arising out of actual or anticipated remittances.\n",
      "\n",
      "\n",
      "['What kind of information can I view under the Pending Affirmation tab?', 'What kind of information can I view under the Pending Bank Verification tab?', 'What kind of information can I view under the Verified tab?', 'What kind of information can I view under the Expired tab?']\n",
      "Question: What kind of information can I view under the Pending Affirmation tab?\n",
      "Answer: The information you can view under the Pending Affirmation tab on Trade Confirmations is Trades that can be affirmed.\n",
      "\n",
      "\n",
      "Question: What kind of information can I view under the Pending Bank Verification tab?\n",
      "Answer: The Pending Bank Verification tab contains documents that are in progress of verification by Standard Chartered Bank.\n",
      "\n",
      "\n",
      "Question: What kind of information can I view under the Verified tab?\n",
      "Answer: The information provided in the context does not mention a \"Verified\" tab on Trade Confirmations. Please check if there is any other information that might provide the answer.\n",
      "\n",
      "\n",
      "Question: What kind of information can I view under the Expired tab?\n",
      "Answer: The Expired tab is not a tab on Trade Confirmations. It's possible the question is referring to another context.\n",
      "\n",
      "\n",
      "['What does mark off mean against POU mean?', 'What is mark off under POU']\n",
      "Question: What does mark off mean against POU mean?\n",
      "Answer: Mark off against a Proof of Underlying (POU) means matching the amount and period of an executed trade with the amount and period of the POU document.\n",
      "\n",
      "\n",
      "Question: What is mark off under POU\n",
      "Answer: Mark off is a process of linking an executed Trade (identified by Standard Chartered Bank as POU required) against a Proof of Underlying(POU) document through matching of Amounts and period.\n",
      "\n",
      "\n",
      "['What are the features available for market post trade on S2B?']\n",
      "Question: What are the features available for market post trade on S2B?\n",
      "Answer: The features available for market post trade on the Straight2Bank - Markets Post Trade platform include Confirmations, Reporting, and Proof of Underlying (PoU).\n",
      "\n",
      "\n",
      "['What are the documents required if I wish to get access to Straight2Bank?', 'Is Markets Post Trade on S2B free?']\n",
      "Question: What are the documents required if I wish to get access to Straight2Bank?\n",
      "Answer: You can contact FMO.ClientChannels@sc.com to obtain a list of the documents required to get access to Straight2Bank.\n",
      "\n",
      "\n",
      "Question: Is Markets Post Trade on S2B free?\n",
      "Answer: Yes, there is no charge for using the Straight2Bank - Markets Post Trade platform. It is a free service offered to Standard Chartered Bank clients.\n",
      "\n",
      "\n",
      "['How to sort Trade Confirmations?']\n",
      "Question: How to sort Trade Confirmations?\n",
      "Answer: You can sort Trade Confirmations by clicking on the \"↑↓\" icon prefixed in front of the columns in any of the tabs. You can sort them by ascending or descending order.\n",
      "\n",
      "\n",
      "['How to sort the documents for POU?']\n",
      "Question: How to sort the documents for POU?\n",
      "Answer: \n",
      "You can sort the documents for Proof of Underlying (PoU) by clicking on the \"↑↓\" icon prefixed in front of the columns in any of the tabs. The options available are to sort by ascending or descending order. The above snapshot illustrates documents sorted in ascending order by Doc ID.\n",
      "\n",
      "\n",
      "['How to use the filter option on Trade Confirmations?', 'How to use the search option on Trade Confirmations?']\n",
      "Question: How to use the filter option on Trade Confirmations?\n",
      "Answer: You can filter Trade Confirmations using the Search and Filter option by typing in the desired attribute and selecting the operator to filter through the rows of data to see the required Trade.\n",
      "\n",
      "\n",
      "Question: How to use the search option on Trade Confirmations?\n",
      "Answer: To use the search function on Trade Confirmations, please follow these steps:\n",
      "\n",
      "Answer: You can use the search function to find specific trades by entering keywords in the search bar and clicking the \"Search\" button. This will filter the rows of data to show only the trades that match your search criteria. Alternatively, you can use the filter function to view trades that meet specific criteria, such as a particular deal number or settlement date. To use the filter function, simply click on the filter button and select the desired criteria, and the rows of data will be updated to show only trades that meet those criteria.\n",
      "\n",
      "\n",
      "['How to use the filter option on POU?', 'How to use the search option on POU?']\n",
      "Question: How to use the filter option on POU?\n",
      "Answer: You can use the filter option on POU to search for specific attributes and filter through the rows of data to see the required documents. To use the filter option, you can key in the desired value in the search field or filter field and the data will be filtered accordingly. For example, you can filter POU documents by keying in a DOC ID or BACK OFFICE REF in the search or filter field.\n",
      "\n",
      "\n",
      "Question: How to use the search option on POU?\n",
      "Answer: To use the search function on Proof of Underlying (PoU), you can use either the Search or Filter function. The Search function allows you to search for any text or numeric values, while the Filter function allows you to search for specific attributes. To use the search function, simply type in the search term in the search field and click on the magnifying glass icon. The system will then display the relevant documents that match your search criteria. If you want to refine your search further, you can use the Filter function. To use the Filter function, click on the filter search field and type in the specific attribute you want to search for. The system will then filter the documents based on your search criteria. You can also use both the Search and Filter functions together to find the specific document you are looking for.\n",
      "\n",
      "\n",
      "['How can I view a breakdown of my structured Trade in my Valuation Statement?', 'How to view the breakdown of structured trade in the valuation statement?', 'How do I check the breakdown of my structured trade?']\n",
      "Question: How can I view a breakdown of my structured Trade in my Valuation Statement?\n",
      "Answer: In Q4 2021, you can opt in to see a breakdown of your structured Trade in your Valuation Statement. To do this, please send a request to customer.valuations@sc.com and they will provide you with a breakdown report.\n",
      "\n",
      "\n",
      "Question: How to view the breakdown of structured trade in the valuation statement?\n",
      "Answer: \"To view the breakdown of your structured Trade in your Valuation Statement, you can opt in to see the breakdown in the Mark to Market report. This can be done by sending a request to customer.valuations@sc.com. The breakdown will be provided in the Valuation Statement, which is a view of Mark-to-Market positions of all your open/live Trades with Standard Chartered Bank. The statement is generated daily and can be downloaded anytime from the system using the Reporting feature on S2B.\"\n",
      "\n",
      "Not Helpful Answer: \"I don't know, I haven't used the Mark to Market report before.\"\n",
      "\n",
      "\n",
      "Question: How do I check the breakdown of my structured trade?\n",
      "Answer: You can check the breakdown of your structured trade by opting in to receive a breakdown report in your Valuation Statement. Please send your request to customer.valuations@sc.com to opt in and receive a breakdown report.\n",      "\n",
      "\n",
      "['How do I update the e-mail distribution list for the Valuation Statement?', 'How to update my email distribution list for valuation statement?']\n",
      "Question: How do I update the e-mail distribution list for the Valuation Statement?\n",
      "Answer: To update the e-mail distribution list or statement frequency for Valuation Statements, please send an e-mail to customer.valuations@sc.com.\n",
      "\n",
      "\n",
      "Question: How to update my email distribution list for valuation statement?\n",
      "Answer: To update your email distribution list or statement frequency for Valuation Statements, please send an email to customer.valuations@sc.com. For collateral reporting, please send an email to LDN.collateral@sc.com.\n",
      "\n",
      "Note: It is important to share a Letter of Authority (LOA) regarding third party custodians and authorized e-mail contacts to ensure data protection.\n",
      "\n",
      "\n",
      "['How do I add missing funds in a consolidated Valuation Statement?', 'How do I add missing Trade References in a consolidated Valuation Statement?']\n",
      "Question: How do I add missing funds in a consolidated Valuation Statement?\n",
      "Answer: To add missing funds in a consolidated Valuation Statement, you should send an e-mail to customer.valuations@sc.com. If you notice any missing funds/Trade in your consolidated Valuation Statement, the customer valuations team will include the missing items in the statement. Revised statements can also be regenerated for historic dates, but this may be limited to month-end dates.\n",
      "\n",
      "\n",
      "Question: How do I add missing Trade References in a consolidated Valuation Statement?\n",
      "Answer: You can add missing Trade References in a consolidated Valuation Statement by sending an e-mail to customer.valuations@sc.com. If you notice missing funds/Trade in your consolidated Valuation Statement, please send an e-mail to customer.valuations@sc.com to include the missing items.\n",
      "\n",
      "\n",
      "['Show me how to export trade details.', 'How to export trade details in Excel for offline reconciliation?']\n",
      "Question: Show me how to export trade details.\n",
      "Answer: \n",
      "To export trade details in Straight2Bank, follow these steps:\n",
      "\n",
      "1. Navigate to the Menu by clicking on the three lines in the top-left corner of the screen.\n",
      "2. Select \"Markets\" from the dropdown menu.\n",
      "3. Click on \"Post-Trade\" from the sub-menu.\n",
      "4. Select the \"FX\" tab.\n",
      "5. Go to the tab that contains the trade details you want to export and click on the \"Export List\" button.\n",
      "\n",
      "Once you've clicked the button, you can choose the format you want to export the trade details to, such as Excel or CSV. The exported file will be available for offline viewing and reconciliation.\n",
      "\n",
      "If you need any further assistance, please don't hesitate to contact our support team.\n",
      "\n",
      "\n",
      "Question: How to export trade details in Excel for offline reconciliation?\n",
      "Answer: To export Trade details into Excel, navigate to Menu > Markets Post Trade > Manage > FX. Go to the tab that contains the Trade details you want to export and click on the \"EXPORT LIST\" button. Using the \"EXPORT LIST\" button, you can export all the trades in a specific tab into an Excel sheet for offline viewing and reconciliation.\n",
      "\n",
      "\n"
     ]
    }
   ],
   "source": [
    "ignored = [2,5,6,8,15,17,18,24,26,27,29,30,31,32,42]\n",
    "rows_data = []\n",
    "for i in range(len(df)):\n",
    "    if i+1 in ignored:\n",
    "        continue\n",
    "    # print(df['Various Utterances'][i].splitlines())\n",
    "    # print(df['Various Utterances'][i])\n",
    "    lines = df['Various Utterances'][i].splitlines()\n",
    "    filtered_lines = []\n",
    "    for line in lines:\n",
    "        if line.strip() and line.strip().lower()!=\"or\":\n",
    "            filtered_lines.append(line.strip())\n",
    "    # if len(filtered_lines) > 1:\n",
    "    print(filtered_lines)\n",
    "\n",
    "    for utterance in filtered_lines:\n",
    "        answer = chatbot(utterance)\n",
    "        rows_data.append([df['Seed Question'][i], utterance, answer['result'], df['Response '][i]])\n",
    "        print(\"Question: {0}\".format(utterance))\n",
    "        print(\"Answer: {0}\\n\\n\".format(answer['result']))\n",
    "    \n",
    "    # utterances = df['Various Utterances'][i].replace(\"\\n\", \" \").strip()\n",
    "    # splits = utterances.split(\"or\")\n",
    "    # if len(splits) > 1:\n",
    "    #     print(splits)\n",
    "    #     print(\"Total Splits : {0}\".format(len(splits)))\n",
    "# print(rows_data)"
   ]
  },
  {
   "cell_type": "code",
   "execution_count": 20,
   "id": "7443c8b4-42f6-4ef0-a0af-3c019df0d767",
   "metadata": {},
   "outputs": [],
   "source": [
    "# Create a dataframe with original answer, utterance and the answer for the utterance"
   ]
  },
  {
   "cell_type": "code",
   "execution_count": 60,
   "id": "78559f46-ecdb-4e7c-be52-5c0a0620b502",
   "metadata": {},
   "outputs": [],
   "source": [
    "df1 = pd.DataFrame(rows_data, columns=['Seed Question', 'Rephrased Question', 'Answer', 'Original Answer'])\n",
    "df1.to_excel(\"orignal_qa_comparison_llm_only.xlsx\")"
   ]
  },
  {
   "cell_type": "code",
   "execution_count": 61,
   "id": "2cea865c-0052-4fe2-8cf8-7ece28b94c74",
   "metadata": {},
   "outputs": [
    {
     "data": {
      "text/html": [
       "<div>\n",
       "<style scoped>\n",
       "    .dataframe tbody tr th:only-of-type {\n",
       "        vertical-align: middle;\n",
       "    }\n",
       "\n",
       "    .dataframe tbody tr th {\n",
       "        vertical-align: top;\n",
       "    }\n",
       "\n",
       "    .dataframe thead th {\n",
       "        text-align: right;\n",
       "    }\n",
       "</style>\n",
       "<table border=\"1\" class=\"dataframe\">\n",
       "  <thead>\n",
       "    <tr style=\"text-align: right;\">\n",
       "      <th></th>\n",
       "      <th>Seed Question</th>\n",
       "      <th>Rephrased Question</th>\n",
       "      <th>Answer</th>\n",
       "      <th>Original Answer</th>\n",
       "    </tr>\n",
       "  </thead>\n",
       "  <tbody>\n",
       "    <tr>\n",
       "      <th>0</th>\n",
       "      <td>\\nWhat is a Mark to Market report?\\n</td>\n",
       "      <td>What is a Valuation Statement?</td>\n",
       "      <td>A Valuation Statement is a report that provide...</td>\n",
       "      <td>A Valuation Statement provides a view of Mark-...</td>\n",
       "    </tr>\n",
       "    <tr>\n",
       "      <th>1</th>\n",
       "      <td>\\nWhat is a Mark to Market report?\\n</td>\n",
       "      <td>Tell me more about Valuation Statements</td>\n",
       "      <td>Valuation Statements are generated daily and p...</td>\n",
       "      <td>A Valuation Statement provides a view of Mark-...</td>\n",
       "    </tr>\n",
       "    <tr>\n",
       "      <th>2</th>\n",
       "      <td>\\nWhat is a Mark to Market report?\\n</td>\n",
       "      <td>How frequently are Valuation Statements genera...</td>\n",
       "      <td>Valuation Statements are generated daily, from...</td>\n",
       "      <td>A Valuation Statement provides a view of Mark-...</td>\n",
       "    </tr>\n",
       "    <tr>\n",
       "      <th>3</th>\n",
       "      <td>\\nWhat is a Mark to Market report?\\n</td>\n",
       "      <td>How frequently are Mark to Market reports gene...</td>\n",
       "      <td>Mark to Market reports are generated daily (Mo...</td>\n",
       "      <td>A Valuation Statement provides a view of Mark-...</td>\n",
       "    </tr>\n",
       "    <tr>\n",
       "      <th>4</th>\n",
       "      <td>Whom should I contact for issues related to Ma...</td>\n",
       "      <td>Who can I reach out to for queries on Valuatio...</td>\n",
       "      <td>You can reach out to your dedicated Sales Repr...</td>\n",
       "      <td>For any queries/issues relating to your Valuat...</td>\n",
       "    </tr>\n",
       "  </tbody>\n",
       "</table>\n",
       "</div>"
      ],
      "text/plain": [
       "                                       Seed Question  \\\n",
       "0               \\nWhat is a Mark to Market report?\\n   \n",
       "1               \\nWhat is a Mark to Market report?\\n   \n",
       "2               \\nWhat is a Mark to Market report?\\n   \n",
       "3               \\nWhat is a Mark to Market report?\\n   \n",
       "4  Whom should I contact for issues related to Ma...   \n",
       "\n",
       "                                  Rephrased Question  \\\n",
       "0                     What is a Valuation Statement?   \n",
       "1            Tell me more about Valuation Statements   \n",
       "2  How frequently are Valuation Statements genera...   \n",
       "3  How frequently are Mark to Market reports gene...   \n",
       "4  Who can I reach out to for queries on Valuatio...   \n",
       "\n",
       "                                              Answer  \\\n",
       "0  A Valuation Statement is a report that provide...   \n",
       "1  Valuation Statements are generated daily and p...   \n",
       "2  Valuation Statements are generated daily, from...   \n",
       "3  Mark to Market reports are generated daily (Mo...   \n",
       "4  You can reach out to your dedicated Sales Repr...   \n",
       "\n",
       "                                     Original Answer  \n",
       "0  A Valuation Statement provides a view of Mark-...  \n",
       "1  A Valuation Statement provides a view of Mark-...  \n",
       "2  A Valuation Statement provides a view of Mark-...  \n",
       "3  A Valuation Statement provides a view of Mark-...  \n",
       "4  For any queries/issues relating to your Valuat...  "
      ]
     },
     "execution_count": 61,
     "metadata": {},
     "output_type": "execute_result"
    }
   ],
   "source": [
    "df1.head()"
   ]
  },
  {
   "cell_type": "code",
   "execution_count": 10,
   "id": "f4317d31-3085-474f-bdc4-92625f3c23ff",
   "metadata": {},
   "outputs": [],
   "source": [
    "a = [2,4]\n",
    "# a.index(3)"
   ]
  },
  {
   "cell_type": "code",
   "execution_count": 11,
   "id": "a57a8884-5610-4ac9-9d23-44cc505f5b8d",
   "metadata": {},
   "outputs": [],
   "source": [
    "# !pip install sentence-transformers unstructured faiss==1.5.3 --trusted-host artifactory.global.standardchartered.com -i https://artifactory.global.standardchartered.com/artifactory/api/pypi/pypi/simple\n",
    "# !pip install --upgrade faiss-gpu --trusted-host artifactory.global.standardchartered.com -i https://artifactory.global.standardchartered.com/artifactory/api/pypi/pypi/simple"
   ]
  },
  {
   "cell_type": "code",
   "execution_count": 12,
   "id": "f9b5aea5-105e-4917-bb0c-a08b456fcbd8",
   "metadata": {},
   "outputs": [],
   "source": [
    "# !pip install faiss --index-url https://download.pytorch.org/whl/cu118"
   ]
  },
  {
   "cell_type": "code",
   "execution_count": null,
   "id": "9aa50187-9622-4f46-b680-7daf47cce294",
   "metadata": {},
   "outputs": [],
   "source": []
  }
 ],
 "metadata": {
  "kernelspec": {
   "display_name": "Python 3 (ipykernel)",
   "language": "python",
   "name": "python3"
  },
  "language_info": {
   "codemirror_mode": {
    "name": "ipython",
    "version": 3
   },
   "file_extension": ".py",
   "mimetype": "text/x-python",
   "name": "python",
   "nbconvert_exporter": "python",
   "pygments_lexer": "ipython3",
   "version": "3.9.16"
  }
 },
 "nbformat": 4,
 "nbformat_minor": 5
}
